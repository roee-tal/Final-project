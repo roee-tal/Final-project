{
 "cells": [
  {
   "cell_type": "markdown",
   "metadata": {},
   "source": [
    "Question 1 section 1:"
   ]
  },
  {
   "cell_type": "code",
   "execution_count": null,
   "metadata": {},
   "outputs": [],
   "source": [
    "# the question is about conidional distribution, so we will use the Bayes' theorem:\n",
    "#          P(B/A)*P(A)\n",
    "# P(A/B)= ------------\n",
    "#            P(B)\n",
    "#\n",
    "# A=same\n",
    "# B=twin\n",
    "# P(A)=1/300\n",
    "# P(A/B)=1\n",
    "#\n",
    "# calculate P(B):\n",
    "# P(B): (1/300)+(1/125)=17/1500\n",
    "#\n",
    "#         P(B/A)*P(A)    1*(1/300)    5\n",
    "# P(A/B)= ------------ = --------- = ------- =0.294\n",
    "#            17/1500      17/1500     17\n",
    "#\n",
    "#   P(A/B)=0.294"
   ]
  },
  {
   "cell_type": "markdown",
   "metadata": {},
   "source": [
    "Question 1 section 2:"
   ]
  },
  {
   "cell_type": "code",
   "execution_count": 3,
   "metadata": {},
   "outputs": [],
   "source": [
    "# the question is about conidional distribution, so we will use the Bayes' theorem:\n",
    "#\n",
    "# A= choose bowl 1\n",
    "# B= get out chocolate cookie\n",
    "# P(A)=0.75\n",
    "# P(B/A)=0.5\n",
    "# calculate P(B):\n",
    "# P(B): (0.5*0.75) + (0.5*0.5)=0.625\n",
    "#\n",
    "#          P(B/A)*P(A)    0.5*0.75    3\n",
    "# P(A/B)= ------------ = ---------= -------\n",
    "#            0.625          0.625     5\n",
    "#       \n",
    "# P(A/B)= 0.6\n",
    "#\n"
   ]
  },
  {
   "cell_type": "markdown",
   "metadata": {},
   "source": [
    "Question 2:"
   ]
  },
  {
   "cell_type": "code",
   "execution_count": 4,
   "metadata": {},
   "outputs": [],
   "source": [
    "# the question is about conidional distribution, so we will use the Bayes' theorem:\n",
    "# \n",
    "# A= the bag is from 1994\n",
    "# B= the candy is yellow\n",
    "# P(A)=0.5\n",
    "# P(B/A)=0.2\n",
    "# calculate P(B):\n",
    "# P(B):(0.5*0.2)+(14/100*0.5)= 0.17\n",
    "#\n",
    "#          P(B/A)*P(A)    0.5*0.2     10\n",
    "# P(A/B)= ------------ = ---------= -------\n",
    "#            0.17          0.17       17\n",
    "#\n",
    "# P(A/B)= 0.5882\n",
    "#"
   ]
  },
  {
   "cell_type": "markdown",
   "metadata": {},
   "source": [
    "Question 3 section 1:"
   ]
  },
  {
   "cell_type": "code",
   "execution_count": 5,
   "metadata": {},
   "outputs": [],
   "source": [
    "# the question is about conidional distribution, so we will use the Bayes' theorem:\n",
    "# \n",
    "# A= distribution to be sick\n",
    "# B= distribution to be positive\n",
    "# P(A)=1/10000\n",
    "# P(B/A)=1\n",
    "# calculate P(B):\n",
    "# P(B):(1*10^-4)+(0.01*(1-10^4))= 0.01009\n",
    "#\n",
    "#\n",
    "#          P(B/A)*P(A)    1*1/10000      \n",
    "# P(A/B)= ------------ = -----------= 0.0099\n",
    "#           0.01009       0.01009        \n",
    "#\n",
    "#\n",
    "#"
   ]
  },
  {
   "cell_type": "markdown",
   "metadata": {},
   "source": [
    "Question 3 section 2:"
   ]
  },
  {
   "cell_type": "code",
   "execution_count": 6,
   "metadata": {},
   "outputs": [],
   "source": [
    "# the change in this section is that now P(A)=1/200 because now the population is smaller\n",
    "# the question is about conidional distribution, so we will use the Bayes' theorem:\n",
    "#\n",
    "# A= distribution to be sick\n",
    "# B= distribution to be positive\n",
    "# P(A)=1/200\n",
    "# P(B/A)=1\n",
    "# calculate P(B):\n",
    "# P(B):(1*1/200)+(0.01*199/200)= 0.0149\n",
    "#\n",
    "#\n",
    "#          P(B/A)*P(A)    1*1/200      \n",
    "# P(A/B)= ------------ = -----------= 0.344\n",
    "#           0.0149        0.0149 \n",
    "#"
   ]
  },
  {
   "cell_type": "markdown",
   "metadata": {},
   "source": [
    "Question 1 (Random Variables):"
   ]
  },
  {
   "cell_type": "code",
   "execution_count": 7,
   "metadata": {},
   "outputs": [],
   "source": [
    "# the question says that there is some game with 2 participants, and asks if it is worth to play the game.\n",
    "# So we will use the Expected value's equation to find out:\n",
    "#       n\n",
    "# E(x)= Σx(i)P(xi)\n",
    "#      i=0\n",
    "#\n",
    "# E(x)= (6*(1/3)) +(-3*(2/3))= 0    (p(x=6)=1/3)\n",
    "#                                   (p(x=-3)=2/3)\n",
    "#\n",
    "# we find out the Exception value is 0 so we cant say that the game is worth to play, but we also cannot say the opposite. "
   ]
  },
  {
   "cell_type": "markdown",
   "metadata": {},
   "source": [
    "Question 2 (Random Variables):"
   ]
  },
  {
   "cell_type": "code",
   "execution_count": 8,
   "metadata": {},
   "outputs": [],
   "source": [
    "# the question says that there is some game with 2 participants, and asks if it is worth to play the game.\n",
    "# So we will use the Expected value's equation to find out:\n",
    "# \n",
    "#                                               (p(x=5)=15/25)\n",
    "#                                               (p(x=0)=4/25)  \n",
    "# E(x)=(5*(15/25))+(0*4/25)+(-6*(6/25))= 1.56   (p(x=-6)=6/25)   \n",
    "#\n",
    "#\n",
    "# we find out the Exception value is positive(1.56) so the game is worth to play."
   ]
  },
  {
   "cell_type": "markdown",
   "metadata": {},
   "source": [
    "Question 3:"
   ]
  },
  {
   "cell_type": "code",
   "execution_count": 9,
   "metadata": {},
   "outputs": [],
   "source": [
    "# there are 200 employees, 40% of them are men, wich means 80 men.\n",
    "# the chance of 1 man to be selected for lanch is 0.4%. it means that for every 1 person(man/woman) there are 0.4 men.\n",
    "# so we multiplate by 8 and we get: 8*0.4= 3.2.  so 3.2 is the mean of the number of males selected each months.\n",
    "#                                    -\n",
    "# Standard deviation: sqrt(8*0.4*0.6)=1.386.\n",
    "#\n",
    "# the std is 1.386.\n"
   ]
  },
  {
   "cell_type": "markdown",
   "metadata": {},
   "source": [
    "Question 4: "
   ]
  },
  {
   "cell_type": "code",
   "execution_count": null,
   "metadata": {},
   "outputs": [],
   "source": [
    "#"
   ]
  },
  {
   "cell_type": "markdown",
   "metadata": {},
   "source": [
    "Question 5:"
   ]
  },
  {
   "cell_type": "code",
   "execution_count": null,
   "metadata": {},
   "outputs": [],
   "source": [
    "# to find the distribution of P(x>3) we will calculate the area of the the triangle that created under the blue lines,\n",
    "# and we'll separate it to 2 small triangle: We'll move altitude at x=3, and find what is the area of the new small triangle \n",
    "# from x=3 (A), with regard to the big triangle.\n",
    "# \n",
    "#                               0.4*5\n",
    "# the area of the big triangle= ----- = 1.\n",
    "#                                 2\n",
    "#                  2*0.4\n",
    "# the area of A:  ------- = 0.4.\n",
    "#                    2\n",
    "#\n",
    "# 0.4/1=0.4\n",
    "#\n",
    "# P(x>3) = 0.4."
   ]
  },
  {
   "cell_type": "markdown",
   "metadata": {},
   "source": [
    "Question 6"
   ]
  },
  {
   "cell_type": "code",
   "execution_count": null,
   "metadata": {},
   "outputs": [],
   "source": [
    "#There are 4 ways: 1- 300/500, 2- 299/499, 3- 298/498, 4- 200/497) \n",
    "# (300/500)*(299/499)*(298/498)*(200/497) *4 = 0.3462\n",
    "# The answer is 0.3462"
   ]
  },
  {
   "cell_type": "markdown",
   "metadata": {},
   "source": [
    "Question 7"
   ]
  },
  {
   "cell_type": "code",
   "execution_count": 1,
   "metadata": {},
   "outputs": [],
   "source": [
    "# Like question 1 and 2:\n",
    "# 0.1-10 + 0.35-5 + 0.10 + 0.110 + 0.35*5 = 0\n",
    "# The answer is 0."
   ]
  },
  {
   "cell_type": "code",
   "execution_count": null,
   "metadata": {},
   "outputs": [],
   "source": []
  }
 ],
 "metadata": {
  "kernelspec": {
   "display_name": "Python 3",
   "language": "python",
   "name": "python3"
  },
  "language_info": {
   "codemirror_mode": {
    "name": "ipython",
    "version": 3
   },
   "file_extension": ".py",
   "mimetype": "text/x-python",
   "name": "python",
   "nbconvert_exporter": "python",
   "pygments_lexer": "ipython3",
   "version": "3.8.3"
  }
 },
 "nbformat": 4,
 "nbformat_minor": 4
}
